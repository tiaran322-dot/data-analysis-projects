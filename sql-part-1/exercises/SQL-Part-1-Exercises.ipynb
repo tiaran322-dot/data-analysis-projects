{
 "cells": [
  {
   "cell_type": "markdown",
   "metadata": {},
   "source": [
    "# SQL Part 1 Exercises\n",
    "\n",
    "## The Goodbooks-10k dataset\n",
    "\n",
    "1. The dataset can be found here: [goodbooks-10k](https://www.kaggle.com/zygmunt/goodbooks-10k)\n",
    "1. The dataset is already loaded as a database in the LaunchCode server called `BooksDB`.\n",
    "\n",
    "### Getting Started\n",
    "\n",
    "1. This dataset has 5 tables. We are going to use the exercises to explore each table and practice SQL syntax.\n",
    "1. We will be covering the following commands with our tables:\n",
    "   1. `SELECT`, `FROM`, `\\\\`, `TOP`, `LIKE`, `%` (the wildcard), `IN`, `BETWEEN`, `ORDER BY`, `AS`, `ASC`, `DESC`, `DISTINCT`, `LIMIT`, `WHERE`, `GROUP BY`, Aggregation, and Arithmetic Operators"
   ]
  },
  {
   "cell_type": "markdown",
   "metadata": {},
   "source": [
    "# A. The **Books** Table\n",
    "\n",
    "## Column Context\n",
    "\n",
    "1. `id` = instance of a book (ie: the top 10k books in some order)\n",
    "1. `book_id` = the instance of the book in the Goodreads database\n",
    "1. `best_book_id` = the most popular edition for a given work. Generally, it's the same as **goodreads\\\\_book\\\\_id** but differs occasionally\n",
    "1. `work_id` =  [Work IDs](https://help.goodreads.com/s/article/What-s-a-Work-ID-and-where-can-I-find-it) are unique identification numbers that represent books in the Goodreads catalog.  Work view holds collections of quotes collected by users for this edition/version.\n",
    "1. `books_count` = the number of editions for a given work\n",
    "1. `isbn` = International Standard Book Number, or a [book's unique identifier](https://en.wikipedia.org/wiki/International_Standard_Book_Number#How_ISBNs_are_issued)\n",
    "1. `isbn13` = 13 digit long ISBN issued after 2007.  The [GS1](https://en.wikipedia.org/wiki/GS1)  prefix currently is 978 or 979\n",
    "1. `authors` = the first entry is who wrote the book, followed by illustrators, contributors, translators, etc\n",
    "1. `original_publication_year` = when the book was first published\n",
    "1. `original_title` = the original title the book was given. This could be the title in the book's original language, the title of the book in a series, etc.\n",
    "1. `title` = The title after translating and its location in a series, including the series name and the book's position in the series.\n",
    "1. `language_code` = what language the book was in when this data was scraped\n",
    "1. `average_rating` = On Goodreads, this average is [calculated](https://help.goodreads.com/s/article/As-an-author-how-is-the-average-rating-of-my-books-calculated#:~:text=On%20Goodreads%2C%20this%20average%20is,the%20total%20number%20of%20ratings.) as the sum of all of the author's book ratings divided by the total number of ratings.\n",
    "1. `ratings_count` = total number of ratings\n",
    "1. `work_ratings` = likes for each quote? or likes for this edition??\n",
    "1. `work_text_reviews_count` = number of text reviews for each book.\n",
    "1. `ratings_1` = number of 1 star reviews\n",
    "1. `ratings_2` = number of 2 star reviews\n",
    "1. `ratings_3` = number of 3 star reviews\n",
    "1. `ratings_4` = number of 4 star reviews\n",
    "1. `ratings_5` = number of 5 star reviews\n",
    "1. `image_url` = cover image\n",
    "1. `small_image_url` = thumbnail image of cover"
   ]
  },
  {
   "cell_type": "markdown",
   "metadata": {},
   "source": [
    "Question 1: Select the [top 1000 rows](https://www.w3schools.com/sql/sql\\\\_top.asp) from the books table.  Make sure you are able to see all of the columns."
   ]
  },
  {
   "cell_type": "code",
   "execution_count": null,
   "metadata": {
    "vscode": {
     "languageId": "sql"
    }
   },
   "outputs": [],
   "source": [
    "SELECT TOP 1000*\n",
    "FROM [dbo].[books]"
   ]
  },
  {
   "cell_type": "markdown",
   "metadata": {},
   "source": [
    "Question 2: Count the number of titles.  Are there 10,000 titles as promised by the dataset?"
   ]
  },
  {
   "cell_type": "code",
   "execution_count": null,
   "metadata": {
    "vscode": {
     "languageId": "sql"
    }
   },
   "outputs": [],
   "source": [
    "SELECT COUNT(title)\n",
    "FROM [dbo].[books]"
   ]
  },
  {
   "cell_type": "markdown",
   "metadata": {},
   "source": [
    "Question 3: Count the number of books where the `original_publication_year` is earlier than 1800."
   ]
  },
  {
   "cell_type": "code",
   "execution_count": null,
   "metadata": {
    "vscode": {
     "languageId": "sql"
    }
   },
   "outputs": [],
   "source": [
    "SELECT *\n",
    "FROM [dbo].[books]\n",
    "WHERE original_publication_year < 1800;"
   ]
  },
  {
   "cell_type": "markdown",
   "metadata": {},
   "source": [
    "Question 4: Create a query that displays distinct authors from the table."
   ]
  },
  {
   "cell_type": "code",
   "execution_count": null,
   "metadata": {
    "vscode": {
     "languageId": "sql"
    }
   },
   "outputs": [],
   "source": [
    "Select distinct authors\n",
    "FROM [dbo].[books];"
   ]
  },
  {
   "cell_type": "markdown",
   "metadata": {},
   "source": [
    "Question 5: Create a query that displays a count of all the books that contain a language code for English.  This could be represented in the table as \\\"eng\\\" or \\\"en-\\\"."
   ]
  },
  {
   "cell_type": "code",
   "execution_count": null,
   "metadata": {
    "vscode": {
     "languageId": "sql"
    }
   },
   "outputs": [],
   "source": [
    "Select COunt(language_code)\n",
    "FROM [dbo].[books]\n",
    "Where language_code = 'eng' OR language_code = 'en-';"
   ]
  },
  {
   "cell_type": "markdown",
   "metadata": {},
   "source": [
    "Question 6: Create a query to check how many original titles were written during World War I era (1914-1921)."
   ]
  },
  {
   "cell_type": "code",
   "execution_count": null,
   "metadata": {
    "vscode": {
     "languageId": "sql"
    }
   },
   "outputs": [],
   "source": [
    "Select original_title\n",
    "FROM [dbo].[books]\n",
    "Where original_publication_year BETWEEN 1914 AND 1921;"
   ]
  },
  {
   "cell_type": "markdown",
   "metadata": {},
   "source": [
    "# B. The **Book Tags** Table\n",
    "\n",
    "## Column Context\n",
    "\n",
    "1. `goodreads_book_id` = the id of the book\n",
    "1. `tag_id` = matches to a specific tag that can be found in the `tags` table.\n",
    "1. `count` = the number of times this tag was used for this book."
   ]
  },
  {
   "cell_type": "markdown",
   "metadata": {},
   "source": [
    "Question 1: Select the top 1000 table items ordered by the `tag_id`."
   ]
  },
  {
   "cell_type": "code",
   "execution_count": null,
   "metadata": {
    "vscode": {
     "languageId": "sql"
    }
   },
   "outputs": [],
   "source": [
    "SELECT TOP 1000*\n",
    "FROM [dbo].[book_tags]\n",
    "ORDER BY tag_id;"
   ]
  },
  {
   "cell_type": "markdown",
   "metadata": {},
   "source": [
    "Question 2: Create a query that counts the number of `goodreads_book_id` grouped by the `tag_id`."
   ]
  },
  {
   "cell_type": "code",
   "execution_count": null,
   "metadata": {
    "vscode": {
     "languageId": "sql"
    }
   },
   "outputs": [],
   "source": [
    "\n",
    "FROM [dbo].[book_tags]\n",
    "GROUP BY tag_id;"
   ]
  },
  {
   "cell_type": "markdown",
   "metadata": {},
   "source": [
    "Question 3: In the last query, we created a new, unnamed column.  Use `AS` to create an alias to provide a name of your choice to this new column."
   ]
  },
  {
   "cell_type": "code",
   "execution_count": null,
   "metadata": {
    "vscode": {
     "languageId": "sql"
    }
   },
   "outputs": [],
   "source": [
    "SELECT COUNT(goodreads_book_id) AS Goodreads_tags\n",
    "FROM [dbo].[book_tags]\n",
    "GROUP BY tag_id;"
   ]
  },
  {
   "cell_type": "markdown",
   "metadata": {},
   "source": [
    "# C. The **Ratings** Table\n",
    "\n",
    "## Column Context\n",
    "\n",
    "1. `book_id` = the identifier of the book\n",
    "1. `user_id` = the identifier of the user who gave a rating\n",
    "1. `rating` = the rating given by the user to the book"
   ]
  },
  {
   "cell_type": "markdown",
   "metadata": {},
   "source": [
    "Question 1: Create a query that displays the top 1000 items in the table in descending order."
   ]
  },
  {
   "cell_type": "code",
   "execution_count": null,
   "metadata": {
    "vscode": {
     "languageId": "sql"
    }
   },
   "outputs": [],
   "source": [
    "SELECT Top 1000*\n",
    "From [dbo].[ratings]\n",
    "ORDER BY book_id DESC;"
   ]
  },
  {
   "cell_type": "markdown",
   "metadata": {},
   "source": [
    "Question 2: Create a query that returns the total number of users that have given a rating of less than 2."
   ]
  },
  {
   "cell_type": "code",
   "execution_count": null,
   "metadata": {
    "vscode": {
     "languageId": "sql"
    }
   },
   "outputs": [],
   "source": [
    "SELECT Count([user_id])\n",
    "From [dbo].[ratings]\n",
    "WHERE rating < 2;"
   ]
  },
  {
   "cell_type": "markdown",
   "metadata": {},
   "source": [
    "Question 3: Create a query that returns the sum of books that have a rating of 4 or higher."
   ]
  },
  {
   "cell_type": "code",
   "execution_count": null,
   "metadata": {
    "vscode": {
     "languageId": "sql"
    }
   },
   "outputs": [],
   "source": [
    "SELECT COUNT([book_id])\n",
    "From [dbo].[ratings]\n",
    "WHERE rating >= 4;"
   ]
  },
  {
   "cell_type": "markdown",
   "metadata": {},
   "source": [
    "# D. The **Tags** Table\n",
    "\n",
    "## Column Context\n",
    "\n",
    "1. `tag_id` = the identifier of the specific tag\n",
    "1. `tag_name` = a tag created by users when creating reviews"
   ]
  },
  {
   "cell_type": "markdown",
   "metadata": {},
   "source": [
    "Question 1: Create a query that returns table items where the `tag_name` describes the book as a mystery.\n",
    "\n",
    "Hint: Use the wildcard to find the word mystery at the beginning, middle, and end of a `tag_name`"
   ]
  },
  {
   "cell_type": "code",
   "execution_count": null,
   "metadata": {
    "vscode": {
     "languageId": "sql"
    }
   },
   "outputs": [],
   "source": [
    "SELECT *\n",
    "From [dbo].[tags]\n",
    "WHERE tag_name LIKE '%mystery%';"
   ]
  },
  {
   "cell_type": "markdown",
   "metadata": {},
   "source": [
    "Question 2: Run the query below. In your own words, what is it returning?"
   ]
  },
  {
   "cell_type": "code",
   "execution_count": null,
   "metadata": {
    "vscode": {
     "languageId": "sql"
    }
   },
   "outputs": [],
   "source": [
    "-- SELECT *\n",
    "   -- FROM BooksDB.dbo.tags\n",
    "   -- WHERE tag_name < 'd' AND tag_name >= 'c';\n",
    "    -- The code is returning book tags that start with the letter c."
   ]
  },
  {
   "cell_type": "markdown",
   "metadata": {},
   "source": [
    "Your Answer:"
   ]
  },
  {
   "cell_type": "markdown",
   "metadata": {},
   "source": [
    "# The **To Read** Table"
   ]
  },
  {
   "cell_type": "markdown",
   "metadata": {},
   "source": [
    "Question 1:  Create a query that uses the `user_id` to count the total number of books that each user wants to read.  Print the results in ascending order by `user_id` under the alias 'Total Books To Read'.\n",
    "\n",
    "Hint: You can use both `GROUP BY` and `ORDER BY` to complete this query."
   ]
  },
  {
   "cell_type": "code",
   "execution_count": null,
   "metadata": {
    "vscode": {
     "languageId": "sql"
    }
   },
   "outputs": [],
   "source": [
    "SELECT user_id, Count(user_id) AS total_books_to_read\n",
    "FROM [BooksDB].[dbo].[to_read]\n",
    "GROUP BY [user_id]\n",
    "ORDER BY total_books_to_read ASC;"
   ]
  },
  {
   "cell_type": "markdown",
   "metadata": {},
   "source": [
    "Question 2: Create a query that uses `user_id` to count the total number of books each user wants to read.  Have the results sort the table by the total number of `book_ids` in descending order and under the alias 'Total Books To Read'.\n",
    "\n",
    "Hint: You can use both `GROUP BY` and `ORDER BY` to complete this query."
   ]
  },
  {
   "cell_type": "code",
   "execution_count": null,
   "metadata": {
    "vscode": {
     "languageId": "sql"
    }
   },
   "outputs": [],
   "source": [
    "SELECT user_id, Count([user_id]) AS total_books_to_read\n",
    "FROM [BooksDB].[dbo].[to_read]\n",
    "GROUP BY [user_id]\n",
    "ORDER BY total_books_to_read DESC;"
   ]
  }
 ],
 "metadata": {
  "language_info": {
   "name": "python"
  }
 },
 "nbformat": 4,
 "nbformat_minor": 2
}
