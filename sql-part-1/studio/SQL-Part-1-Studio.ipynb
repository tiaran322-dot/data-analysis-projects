{
 "cells": [
  {
   "cell_type": "markdown",
   "metadata": {},
   "source": [
    "# SQL Part 1 Studio\n",
    "\n",
    "Let's practice your SQL querying skills!  For each question, work along in the notebook adding your query and answering the questions.\n",
    "\n",
    "## Dataset\n",
    "\n",
    "We will be using the same Goodreads dataset that was used for the exercises in the prep work. Feel free to reference your exercises notebook as you work on the studio. The Kaggle dataset can be found here: [goodbooks-10k](https://www.kaggle.com/zygmunt/goodbooks-10k).\n",
    "\n",
    "You can access **BooksDB** in the Launchcode server.\n",
    "\n",
    "## Business Issue\n",
    "\n",
    "You work for a small independent book store and you want to increase sales by running a new marketing campaign. Before you can design your campaign, you need to get more familiar with what is going on with the world of book publishing. Time to get more familar with BooksDB!"
   ]
  },
  {
   "cell_type": "markdown",
   "metadata": {},
   "source": [
    "## Part 1: BooksDB Questions\n",
    "\n",
    "Question 1: Write a query of the `books` table that returns the top 100 results and includes `book_id`, `authors`, `title`, and `average_rating`. Use an alias for at least one column and sort the result set in descending order of rating. What is the number one book?"
   ]
  },
  {
   "cell_type": "code",
   "execution_count": null,
   "metadata": {
    "vscode": {
     "languageId": "sql"
    }
   },
   "outputs": [],
   "source": [
    "-- return top 100 results\n",
    "USE BooksDB\n",
    "SELECT TOP 100 book_id, authors, title AS 'book_title', average_rating\n",
    "FROM dbo.books\n",
    "ORDER BY average_rating DESC\n",
    "\n",
    "--The Complete Calvin and Hobbes"
   ]
  },
  {
   "cell_type": "markdown",
   "metadata": {},
   "source": [
    "Question 2: Write a query to find the least popular book."
   ]
  },
  {
   "cell_type": "code",
   "execution_count": null,
   "metadata": {
    "vscode": {
     "languageId": "sql"
    }
   },
   "outputs": [],
   "source": [
    "-- return least popular book\n",
    "SELECT TOP 1 title, average_rating\n",
    "FROM dbo.books\n",
    "ORDER BY average_rating ASC\n",
    "\n",
    "--One Night at the Call Center"
   ]
  },
  {
   "cell_type": "markdown",
   "metadata": {},
   "source": [
    "Question 3: Which tag is the most popular?"
   ]
  },
  {
   "cell_type": "code",
   "execution_count": null,
   "metadata": {
    "vscode": {
     "languageId": "sql"
    }
   },
   "outputs": [],
   "source": [
    "-- return most popular tag\n",
    "SELECT TOP 1 tag_id, 'count'\n",
    "FROM BooksDB.dbo.book_tags\n",
    "ORDER BY \"count\" DESC\n",
    "\n",
    "--30574"
   ]
  },
  {
   "cell_type": "markdown",
   "metadata": {},
   "source": [
    "Question 4: What is the name of the most popular tag?"
   ]
  },
  {
   "cell_type": "code",
   "execution_count": null,
   "metadata": {
    "vscode": {
     "languageId": "sql"
    }
   },
   "outputs": [],
   "source": [
    "-- return name of most popular tag\n",
    "SELECT *\n",
    "FROM dbo.tags\n",
    "WHERE tag_id LIKE 30574\n",
    "\n",
    "--to read\n"
   ]
  },
  {
   "cell_type": "markdown",
   "metadata": {},
   "source": [
    "Question 5: How many books where released in the first decade of 2000?"
   ]
  },
  {
   "cell_type": "code",
   "execution_count": null,
   "metadata": {
    "vscode": {
     "languageId": "sql"
    }
   },
   "outputs": [],
   "source": [
    "-- return number of books published in the first decade of 2000\n",
    "SELECT COUNT(title)\n",
    "FROM dbo.books\n",
    "WHERE original_publication_year BETWEEN 2000 AND 2010\n",
    "\n",
    "--3594"
   ]
  },
  {
   "cell_type": "markdown",
   "metadata": {},
   "source": [
    "Question 6: How many book titles contain the word, \"happy\"?"
   ]
  },
  {
   "cell_type": "code",
   "execution_count": null,
   "metadata": {
    "vscode": {
     "languageId": "sql"
    }
   },
   "outputs": [],
   "source": [
    "-- return number of books that contain the word, \"happy\"\n",
    "SELECT COUNT(title)\n",
    "FROM dbo.books\n",
    "WHERE title LIKE '%happy%';\n",
    "\n",
    "--13"
   ]
  },
  {
   "cell_type": "markdown",
   "metadata": {},
   "source": [
    "Question 7: List the books from the top 3 authors from Question 1.  If there is more than one author just use the first one. Sort the title alphabetically by `author` and then by `average_rating`, best rated to lowest. Does this order matter in sorting?"
   ]
  },
  {
   "cell_type": "code",
   "execution_count": null,
   "metadata": {
    "vscode": {
     "languageId": "sql"
    }
   },
   "outputs": [],
   "source": [
    "-- return all books from the top 3 authors, sort by author and rating\n",
    "USE booksDB\n",
    "SELECT book_id, authors, title, average_rating as 'rating'\n",
    "FROM books\n",
    "WHERE authors IN ('Bill Watterson','Brandon Sanderson', 'J.K. Rowling')\n",
    "order by authors ASC, rating DESC\n",
    "\n",
    "/*book_id\tauthors\ttitle\trating\n",
    "24812\tBill Watterson\tThe Complete Calvin and Hobbes\t4.82\n",
    "24814\tBill Watterson\tIt's a Magical World: A Calvin and Hobbes Collection\t4.75\n",
    "70489\tBill Watterson\tThere's Treasure Everywhere: A Calvin and Hobbes Collection\t4.74\n",
    "59715\tBill Watterson\tThe Authoritative Calvin and Hobbes: A Calvin and Hobbes Treasury\t4.73\n",
    "24815\tBill Watterson\tThe Indispensable Calvin and Hobbes\t4.73\n",
    "70487\tBill Watterson\tAttack of the Deranged Mutant Killer Monster Snow Goons\t4.72\n",
    "121792\tBill Watterson\tThe Revenge of the Baby-Sat\t4.71\n",
    "24816\tBill Watterson\tHomicidal Psycho Jungle Cat: A Calvin and Hobbes Collection\t4.71\n",
    "24818\tBill Watterson\tThe Days Are Just Packed: A Calvin and Hobbes Collection\t4.68\n",
    "24494\tBill Watterson\tThe Calvin and Hobbes Lazy Sunday Book\t4.66"
   ]
  },
  {
   "cell_type": "markdown",
   "metadata": {},
   "source": [
    "Question 8: Write a query that returns the number of authors whose first name is between rock and roll."
   ]
  },
  {
   "cell_type": "code",
   "execution_count": null,
   "metadata": {
    "vscode": {
     "languageId": "sql"
    }
   },
   "outputs": [],
   "source": [
    "-- return number of authors whose first name is between rock and roll\n",
    "SELECT COunt(authors)\n",
    "FROM dbo.books\n",
    "WHERE authors BETWEEN 'rock' AND 'roll'\n",
    "\n",
    "--25\n"
   ]
  },
  {
   "cell_type": "markdown",
   "metadata": {},
   "source": [
    "## Part 2: Find the Answers to Your Own Questions\n",
    "\n",
    "Your Question:  Click here to add a questions that you want to answer and write a query to find the answer!"
   ]
  },
  {
   "cell_type": "code",
   "execution_count": null,
   "metadata": {
    "vscode": {
     "languageId": "sql"
    }
   },
   "outputs": [],
   "source": [
    "--Top 3 books with the shortest titles.\n",
    "select top 3 title, LEN(title) AS title_length\n",
    "FROM dbo.books\n",
    "ORDER BY title_length ASC;\n",
    "\n",
    "/*\n",
    "title\ttitle_length\n",
    "It\t2\n",
    "We\t2\n",
    "Us\t2"
   ]
  },
  {
   "cell_type": "markdown",
   "metadata": {},
   "source": [
    "Your Question:  Click here to add a questions that you want to answer and write a query to find the answer!"
   ]
  },
  {
   "cell_type": "code",
   "execution_count": null,
   "metadata": {
    "vscode": {
     "languageId": "sql"
    }
   },
   "outputs": [],
   "source": [
    "--Top 3 authors with the most books.\n",
    "SELECT top 3 \n",
    "    authors,\n",
    "    Count(title) AS most_books_written\n",
    "FROM dbo.books\n",
    "GROUP BY authors\n",
    "ORDER BY most_books_written DESC;\n",
    "\n",
    "/*\n",
    "authors\tmost_books_written\n",
    "Stephen King\t60\n",
    "Nora Roberts\t59\n",
    "Dean Koontz\t47"
   ]
  },
  {
   "cell_type": "markdown",
   "metadata": {},
   "source": [
    "If you cannot think of a question you want to ask, here are some question examples to help jumpstart your brainstorming process:\n",
    "\n",
    "1. What book has the longest title?\n",
    "1. Which author has written the most books?\n",
    "1. What were the top ten books published the year I was born?"
   ]
  }
 ],
 "metadata": {
  "language_info": {
   "name": "python"
  }
 },
 "nbformat": 4,
 "nbformat_minor": 2
}
